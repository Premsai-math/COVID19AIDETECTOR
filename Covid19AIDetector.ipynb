{
 "cells": [
  {
   "cell_type": "code",
   "execution_count": 1,
   "metadata": {},
   "outputs": [],
   "source": [
    "import re\n",
    "import os\n",
    "import random\n",
    "import numpy as np\n",
    "import pandas as pd\n",
    "import tensorflow as tf\n",
    "from tensorflow import keras\n",
    "import matplotlib.pyplot as plt\n",
    "from keras.preprocessing import image\n",
    "from PIL import Image \n",
    "\n",
    "from shutil import copyfile\n",
    "from tensorflow.keras.preprocessing.image import ImageDataGenerator\n",
    "from tensorflow.keras.utils import to_categorical\n",
    "from keras.callbacks import ReduceLROnPlateau"
   ]
  },
  {
   "cell_type": "code",
   "execution_count": 2,
   "metadata": {},
   "outputs": [],
   "source": [
    "TRAINING_DIR = \"COVID-19 Radiography Database\""
   ]
  },
  {
   "cell_type": "code",
   "execution_count": 6,
   "metadata": {},
   "outputs": [
    {
     "name": "stdout",
     "output_type": "stream",
     "text": [
      "Found 2325 images belonging to 3 classes.\n",
      "Found 580 images belonging to 3 classes.\n",
      "Found 2905 images belonging to 3 classes.\n"
     ]
    }
   ],
   "source": [
    "train_datagen = ImageDataGenerator(rescale=1/255,\n",
    "                                      rotation_range = 30,  \n",
    "                                      zoom_range = 0.2, \n",
    "                                      width_shift_range=0.1,  \n",
    "                                      height_shift_range=0.1,\n",
    "                                      validation_split = 0.2)\n",
    "    \n",
    "  \n",
    "    \n",
    "test_datagen = ImageDataGenerator(rescale=1/255,validation_split=0.2)\n",
    "    \n",
    "train_generator = train_datagen.flow_from_directory(TRAINING_DIR,\n",
    "                                  target_size = (75,75),\n",
    "                                  batch_size = 214,\n",
    "                                  class_mode = 'categorical',\n",
    "                                  subset='training')\n",
    "    \n",
    "val_generator = train_datagen.flow_from_directory(TRAINING_DIR,\n",
    "                                  target_size = (75,75),\n",
    "                                  batch_size = 37,\n",
    "                                  class_mode = 'categorical',\n",
    "                                  subset = 'validation')\n",
    "    \n",
    "test_generator = test_datagen.flow_from_directory(TRAINING_DIR,\n",
    "                                 target_size=(75,75),\n",
    "                                 batch_size = 37,\n",
    "                                 class_mode = 'categorical')"
   ]
  },
  {
   "cell_type": "code",
   "execution_count": 10,
   "metadata": {},
   "outputs": [],
   "source": [
    "from tensorflow.keras.applications.inception_v3 import InceptionV3\n",
    "from keras.layers import Dense, Activation, Flatten, Dropout\n",
    "from tensorflow.keras.models import Model\n",
    "#from deepy.layers import Dense, Softmax, Dropout\n",
    "def model_output_for_TL (pre_trained_model, last_output):    \n",
    "    x = Flatten()(last_output)\n",
    "    \n",
    "    # Dense hidden layer\n",
    "    x = Dense(512, activation='relu')(x)\n",
    "    x = Dropout(0.2)(x)\n",
    "    \n",
    "    # Output neuron. \n",
    "    x = Dense(3, activation='softmax')(x)\n",
    "    \n",
    "    model = Model(pre_trained_model.input, x)\n",
    "    \n",
    "    return model\n",
    "pre_trained_model = InceptionV3(input_shape = (75, 75, 3), \n",
    "                                include_top = False, \n",
    "                                weights = 'imagenet')\n",
    "for layer in pre_trained_model.layers:\n",
    "    layer.trainable = False\n",
    "last_layer = pre_trained_model.get_layer('mixed5')\n",
    "last_output = last_layer.output\n",
    "model_TL = model_output_for_TL(pre_trained_model, last_output)"
   ]
  },
  {
   "cell_type": "code",
   "execution_count": 12,
   "metadata": {},
   "outputs": [
    {
     "name": "stdout",
     "output_type": "stream",
     "text": [
      "Epoch 1/20\n",
      "10/10 [==============================] - 155s 16s/step - loss: 4.5251 - accuracy: 0.4950 - val_loss: 1.1631 - val_accuracy: 0.6431\n",
      "Epoch 2/20\n",
      "10/10 [==============================] - 105s 11s/step - loss: 1.0747 - accuracy: 0.7342 - val_loss: 0.6104 - val_accuracy: 0.7466\n",
      "Epoch 3/20\n",
      "10/10 [==============================] - 102s 10s/step - loss: 0.4899 - accuracy: 0.8072 - val_loss: 0.4296 - val_accuracy: 0.8224\n",
      "Epoch 4/20\n",
      "10/10 [==============================] - 146s 15s/step - loss: 0.3710 - accuracy: 0.8674 - val_loss: 0.3460 - val_accuracy: 0.8741\n",
      "Epoch 5/20\n",
      "10/10 [==============================] - 114s 11s/step - loss: 0.2988 - accuracy: 0.8939 - val_loss: 0.2678 - val_accuracy: 0.8897\n",
      "Epoch 6/20\n",
      "10/10 [==============================] - 116s 12s/step - loss: 0.2779 - accuracy: 0.8977 - val_loss: 0.2853 - val_accuracy: 0.8948\n",
      "Epoch 7/20\n",
      "10/10 [==============================] - 98s 10s/step - loss: 0.2617 - accuracy: 0.9109 - val_loss: 0.2521 - val_accuracy: 0.9017\n",
      "Epoch 8/20\n",
      "10/10 [==============================] - 122s 12s/step - loss: 0.2371 - accuracy: 0.9171 - val_loss: 0.2389 - val_accuracy: 0.9034\n",
      "Epoch 9/20\n",
      "10/10 [==============================] - 96s 10s/step - loss: 0.2040 - accuracy: 0.9242 - val_loss: 0.2258 - val_accuracy: 0.9103\n",
      "Epoch 10/20\n",
      "10/10 [==============================] - 109s 11s/step - loss: 0.2118 - accuracy: 0.9280 - val_loss: 0.2333 - val_accuracy: 0.9224\n",
      "Epoch 11/20\n",
      "10/10 [==============================] - 128s 13s/step - loss: 0.1965 - accuracy: 0.9261 - val_loss: 0.2162 - val_accuracy: 0.9052\n",
      "Epoch 12/20\n",
      "10/10 [==============================] - 48s 5s/step - loss: 0.1867 - accuracy: 0.9332 - val_loss: 0.2345 - val_accuracy: 0.9052\n",
      "Epoch 13/20\n",
      "10/10 [==============================] - 49s 5s/step - loss: 0.1894 - accuracy: 0.9341 - val_loss: 0.2395 - val_accuracy: 0.9052\n",
      "Epoch 14/20\n",
      "10/10 [==============================] - 48s 5s/step - loss: 0.1984 - accuracy: 0.9332 - val_loss: 0.2426 - val_accuracy: 0.9086\n",
      "Epoch 15/20\n",
      "10/10 [==============================] - 51s 5s/step - loss: 0.1939 - accuracy: 0.9299 - val_loss: 0.2206 - val_accuracy: 0.9190\n",
      "Epoch 16/20\n",
      "10/10 [==============================] - 48s 5s/step - loss: 0.1893 - accuracy: 0.9289 - val_loss: 0.2365 - val_accuracy: 0.9086\n",
      "Epoch 17/20\n",
      "10/10 [==============================] - 48s 5s/step - loss: 0.1819 - accuracy: 0.9342 - val_loss: 0.2149 - val_accuracy: 0.9052\n",
      "Epoch 18/20\n",
      "10/10 [==============================] - 49s 5s/step - loss: 0.1701 - accuracy: 0.9421 - val_loss: 0.1966 - val_accuracy: 0.9172\n",
      "Epoch 19/20\n",
      "10/10 [==============================] - 49s 5s/step - loss: 0.1732 - accuracy: 0.9408 - val_loss: 0.1559 - val_accuracy: 0.9500\n",
      "Epoch 20/20\n",
      "10/10 [==============================] - 49s 5s/step - loss: 0.1733 - accuracy: 0.9394 - val_loss: 0.2070 - val_accuracy: 0.9259\n"
     ]
    }
   ],
   "source": [
    "model_TL.compile(optimizer='adam', loss='categorical_crossentropy', metrics=['accuracy'])\n",
    "history_TL = model_TL.fit(\n",
    "      train_generator,\n",
    "      steps_per_epoch=10,  \n",
    "      epochs=20,\n",
    "      verbose=1,\n",
    "      validation_data = val_generator)\n",
    "tf.keras.models.save_model(model_TL,'Sample_model.hdf5')"
   ]
  },
  {
   "cell_type": "code",
   "execution_count": 2,
   "metadata": {},
   "outputs": [
    {
     "name": "stdout",
     "output_type": "stream",
     "text": [
      "Requirement already satisfied: pipreqs in /home/premsaimaddala/anaconda3/envs/my_env/lib/python3.8/site-packages (0.4.10)\n",
      "Requirement already satisfied: docopt in /home/premsaimaddala/anaconda3/envs/my_env/lib/python3.8/site-packages (from pipreqs) (0.6.2)\n",
      "Requirement already satisfied: yarg in /home/premsaimaddala/anaconda3/envs/my_env/lib/python3.8/site-packages (from pipreqs) (0.1.9)\n",
      "Requirement already satisfied: requests in /home/premsaimaddala/anaconda3/envs/my_env/lib/python3.8/site-packages (from yarg->pipreqs) (2.24.0)\n",
      "Requirement already satisfied: certifi>=2017.4.17 in /home/premsaimaddala/anaconda3/envs/my_env/lib/python3.8/site-packages (from requests->yarg->pipreqs) (2020.6.20)\n",
      "Requirement already satisfied: chardet<4,>=3.0.2 in /home/premsaimaddala/anaconda3/envs/my_env/lib/python3.8/site-packages (from requests->yarg->pipreqs) (3.0.4)\n",
      "Requirement already satisfied: idna<3,>=2.5 in /home/premsaimaddala/anaconda3/envs/my_env/lib/python3.8/site-packages (from requests->yarg->pipreqs) (2.10)\n",
      "Requirement already satisfied: urllib3!=1.25.0,!=1.25.1,<1.26,>=1.21.1 in /home/premsaimaddala/anaconda3/envs/my_env/lib/python3.8/site-packages (from requests->yarg->pipreqs) (1.25.10)\n",
      "Note: you may need to restart the kernel to use updated packages.\n"
     ]
    }
   ],
   "source": [
    "pip install pipreqs"
   ]
  },
  {
   "cell_type": "code",
   "execution_count": 7,
   "metadata": {},
   "outputs": [
    {
     "data": {
      "text/plain": [
       "<module 'pipreqs' from '/home/premsaimaddala/anaconda3/envs/my_env/lib/python3.8/site-packages/pipreqs/__init__.py'>"
      ]
     },
     "execution_count": 7,
     "metadata": {},
     "output_type": "execute_result"
    }
   ],
   "source": [
    "import pipreqs\n",
    "pipreqs"
   ]
  },
  {
   "cell_type": "code",
   "execution_count": 10,
   "metadata": {},
   "outputs": [
    {
     "ename": "SyntaxError",
     "evalue": "invalid syntax (<ipython-input-10-c66b49ab691d>, line 1)",
     "output_type": "error",
     "traceback": [
      "\u001b[0;36m  File \u001b[0;32m\"<ipython-input-10-c66b49ab691d>\"\u001b[0;36m, line \u001b[0;32m1\u001b[0m\n\u001b[0;31m    pipreqs home/premsaimaddala/Documents/Covid19Aidetector\u001b[0m\n\u001b[0m            ^\u001b[0m\n\u001b[0;31mSyntaxError\u001b[0m\u001b[0;31m:\u001b[0m invalid syntax\n"
     ]
    }
   ],
   "source": [
    "pipreqs home/premsaimaddala/Documents/Covid19Aidetector"
   ]
  }
 ],
 "metadata": {
  "kernelspec": {
   "display_name": "Python 3",
   "language": "python",
   "name": "python3"
  },
  "language_info": {
   "codemirror_mode": {
    "name": "ipython",
    "version": 3
   },
   "file_extension": ".py",
   "mimetype": "text/x-python",
   "name": "python",
   "nbconvert_exporter": "python",
   "pygments_lexer": "ipython3",
   "version": "3.8.5"
  }
 },
 "nbformat": 4,
 "nbformat_minor": 4
}
